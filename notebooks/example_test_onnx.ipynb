{
 "cells": [
  {
   "cell_type": "code",
   "execution_count": 2,
   "metadata": {},
   "outputs": [],
   "source": [
    "import onnx\n",
    "import onnxruntime\n",
    "import numpy as np\n",
    "from PIL import Image\n",
    "import torchvision.transforms as transforms\n"
   ]
  },
  {
   "cell_type": "code",
   "execution_count": 3,
   "metadata": {},
   "outputs": [],
   "source": [
    "# 加载ONNX模型\n",
    "onnx_model_path = '../work_dirs/mobnetv2_0.35_rep_1bx16_300e_custom/epoch_50.onnx'\n",
    "onnx_model = onnx.load(onnx_model_path)"
   ]
  },
  {
   "cell_type": "code",
   "execution_count": 4,
   "metadata": {},
   "outputs": [],
   "source": [
    "# 创建ONNX运行时\n",
    "ort_session = onnxruntime.InferenceSession(onnx_model_path)"
   ]
  },
  {
   "cell_type": "code",
   "execution_count": 7,
   "metadata": {},
   "outputs": [],
   "source": [
    "# 加载并预处理图片\n",
    "image_path = '/home/hansenfeng/ModelAssistant/datasets/Gender_Classification_MobileNetV2_0.35_Rep_64/test/Male/160081_jpg.rf.34c5f6339fab89148f1fa8d8eec5e1b1.jpg'\n",
    "image = Image.open(image_path)\n",
    "preprocess = transforms.Compose([\n",
    "    transforms.Resize((96, 96)),\n",
    "    transforms.ToTensor(),\n",
    "    transforms.Normalize(mean=[0.485, 0.456, 0.406], std=[0.229, 0.224, 0.225]),\n",
    "])\n",
    "input_data = preprocess(image)\n",
    "input_data = input_data.unsqueeze(0)  # 添加批次维度"
   ]
  },
  {
   "cell_type": "code",
   "execution_count": 8,
   "metadata": {},
   "outputs": [
    {
     "name": "stdout",
     "output_type": "stream",
     "text": [
      "Predicted class: 0\n"
     ]
    }
   ],
   "source": [
    "# 将输入数据转换为NumPy数组\n",
    "input_data_np = input_data.numpy()\n",
    "\n",
    "# 运行推理\n",
    "ort_inputs = {ort_session.get_inputs()[0].name: input_data_np}\n",
    "ort_outs = ort_session.run(None, ort_inputs)\n",
    "\n",
    "# 处理输出\n",
    "output = ort_outs[0]\n",
    "predicted_class = np.argmax(output)\n",
    "\n",
    "print(f'Predicted class: {predicted_class}')"
   ]
  }
 ],
 "metadata": {
  "kernelspec": {
   "display_name": "sscma",
   "language": "python",
   "name": "python3"
  },
  "language_info": {
   "codemirror_mode": {
    "name": "ipython",
    "version": 3
   },
   "file_extension": ".py",
   "mimetype": "text/x-python",
   "name": "python",
   "nbconvert_exporter": "python",
   "pygments_lexer": "ipython3",
   "version": "3.10.13"
  }
 },
 "nbformat": 4,
 "nbformat_minor": 2
}
